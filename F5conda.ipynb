{
 "cells": [
  {
   "cell_type": "code",
   "execution_count": 1,
   "id": "dd1081ca",
   "metadata": {},
   "outputs": [],
   "source": [
    "import pyautogui\n",
    "import time\n",
    "\n",
    "pyautogui.PAUSE = 120.0\n",
    "\n",
    "pyautogui.hotkey('ctrl', 'tab')\n"
   ]
  },
  {
   "cell_type": "code",
   "execution_count": null,
   "id": "461d7cdb",
   "metadata": {},
   "outputs": [],
   "source": [
    "i = 0\n",
    "\n",
    "while i <= 5000:\n",
    "    \n",
    "    pyautogui.press('f5')\n",
    "    time.sleep(3)\n",
    "\n",
    "    i = i + 1\n",
    "\n",
    "if(i > 5000):\n",
    "    break\n",
    "\n"
   ]
  }
 ],
 "metadata": {
  "kernelspec": {
   "display_name": "Python 3",
   "language": "python",
   "name": "python3"
  },
  "language_info": {
   "codemirror_mode": {
    "name": "ipython",
    "version": 3
   },
   "file_extension": ".py",
   "mimetype": "text/x-python",
   "name": "python",
   "nbconvert_exporter": "python",
   "pygments_lexer": "ipython3",
   "version": "3.8.8"
  }
 },
 "nbformat": 4,
 "nbformat_minor": 5
}
